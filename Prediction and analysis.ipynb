{
 "cells": [
  {
   "cell_type": "code",
   "execution_count": 1,
   "id": "d9744a81",
   "metadata": {},
   "outputs": [],
   "source": [
    "import pandas as pd\n",
    "import numpy as np\n",
    "import matplotlib.pyplot as plt\n",
    "import seaborn as sns\n",
    "from sklearn.model_selection import train_test_split\n",
    "from sklearn.preprocessing import StandardScaler \n",
    "from sklearn.linear_model import LogisticRegression\n",
    "from sklearn.metrics import accuracy_score\n",
    "from sklearn.metrics import confusion_matrix\n",
    "from sklearn.naive_bayes import GaussianNB\n",
    "from sklearn.ensemble import RandomForestClassifier\n",
    "from sklearn.svm import SVC\n",
    "from sklearn.model_selection import KFold\n",
    "from sklearn.model_selection import StratifiedKFold\n",
    "from sklearn.neighbors import KNeighborsClassifier\n",
    "from sklearn.model_selection import cross_val_score\n",
    "from sklearn.model_selection import GridSearchCV\n",
    "from sklearn import metrics\n",
    "\n",
    "import warnings\n",
    "warnings.filterwarnings('ignore')"
   ]
  },
  {
   "cell_type": "code",
   "execution_count": 2,
   "id": "ce256524",
   "metadata": {},
   "outputs": [],
   "source": [
    "data=pd.read_csv(\"/Users/deepikatigulla/Downloads/breast-cancer (1).csv\")"
   ]
  },
  {
   "cell_type": "code",
   "execution_count": 3,
   "id": "6977bd0c",
   "metadata": {
    "scrolled": true
   },
   "outputs": [
    {
     "data": {
      "text/html": [
       "<div>\n",
       "<style scoped>\n",
       "    .dataframe tbody tr th:only-of-type {\n",
       "        vertical-align: middle;\n",
       "    }\n",
       "\n",
       "    .dataframe tbody tr th {\n",
       "        vertical-align: top;\n",
       "    }\n",
       "\n",
       "    .dataframe thead th {\n",
       "        text-align: right;\n",
       "    }\n",
       "</style>\n",
       "<table border=\"1\" class=\"dataframe\">\n",
       "  <thead>\n",
       "    <tr style=\"text-align: right;\">\n",
       "      <th></th>\n",
       "      <th>id</th>\n",
       "      <th>diagnosis</th>\n",
       "      <th>radius_mean</th>\n",
       "      <th>texture_mean</th>\n",
       "      <th>perimeter_mean</th>\n",
       "      <th>area_mean</th>\n",
       "      <th>smoothness_mean</th>\n",
       "      <th>compactness_mean</th>\n",
       "      <th>concavity_mean</th>\n",
       "      <th>concave points_mean</th>\n",
       "      <th>...</th>\n",
       "      <th>radius_worst</th>\n",
       "      <th>texture_worst</th>\n",
       "      <th>perimeter_worst</th>\n",
       "      <th>area_worst</th>\n",
       "      <th>smoothness_worst</th>\n",
       "      <th>compactness_worst</th>\n",
       "      <th>concavity_worst</th>\n",
       "      <th>concave points_worst</th>\n",
       "      <th>symmetry_worst</th>\n",
       "      <th>fractal_dimension_worst</th>\n",
       "    </tr>\n",
       "  </thead>\n",
       "  <tbody>\n",
       "    <tr>\n",
       "      <th>0</th>\n",
       "      <td>842302</td>\n",
       "      <td>M</td>\n",
       "      <td>17.99</td>\n",
       "      <td>10.38</td>\n",
       "      <td>122.80</td>\n",
       "      <td>1001.0</td>\n",
       "      <td>0.11840</td>\n",
       "      <td>0.27760</td>\n",
       "      <td>0.30010</td>\n",
       "      <td>0.14710</td>\n",
       "      <td>...</td>\n",
       "      <td>25.380</td>\n",
       "      <td>17.33</td>\n",
       "      <td>184.60</td>\n",
       "      <td>2019.0</td>\n",
       "      <td>0.16220</td>\n",
       "      <td>0.66560</td>\n",
       "      <td>0.7119</td>\n",
       "      <td>0.2654</td>\n",
       "      <td>0.4601</td>\n",
       "      <td>0.11890</td>\n",
       "    </tr>\n",
       "    <tr>\n",
       "      <th>1</th>\n",
       "      <td>842517</td>\n",
       "      <td>M</td>\n",
       "      <td>20.57</td>\n",
       "      <td>17.77</td>\n",
       "      <td>132.90</td>\n",
       "      <td>1326.0</td>\n",
       "      <td>0.08474</td>\n",
       "      <td>0.07864</td>\n",
       "      <td>0.08690</td>\n",
       "      <td>0.07017</td>\n",
       "      <td>...</td>\n",
       "      <td>24.990</td>\n",
       "      <td>23.41</td>\n",
       "      <td>158.80</td>\n",
       "      <td>1956.0</td>\n",
       "      <td>0.12380</td>\n",
       "      <td>0.18660</td>\n",
       "      <td>0.2416</td>\n",
       "      <td>0.1860</td>\n",
       "      <td>0.2750</td>\n",
       "      <td>0.08902</td>\n",
       "    </tr>\n",
       "    <tr>\n",
       "      <th>2</th>\n",
       "      <td>84300903</td>\n",
       "      <td>M</td>\n",
       "      <td>19.69</td>\n",
       "      <td>21.25</td>\n",
       "      <td>130.00</td>\n",
       "      <td>1203.0</td>\n",
       "      <td>0.10960</td>\n",
       "      <td>0.15990</td>\n",
       "      <td>0.19740</td>\n",
       "      <td>0.12790</td>\n",
       "      <td>...</td>\n",
       "      <td>23.570</td>\n",
       "      <td>25.53</td>\n",
       "      <td>152.50</td>\n",
       "      <td>1709.0</td>\n",
       "      <td>0.14440</td>\n",
       "      <td>0.42450</td>\n",
       "      <td>0.4504</td>\n",
       "      <td>0.2430</td>\n",
       "      <td>0.3613</td>\n",
       "      <td>0.08758</td>\n",
       "    </tr>\n",
       "    <tr>\n",
       "      <th>3</th>\n",
       "      <td>84348301</td>\n",
       "      <td>M</td>\n",
       "      <td>11.42</td>\n",
       "      <td>20.38</td>\n",
       "      <td>77.58</td>\n",
       "      <td>386.1</td>\n",
       "      <td>0.14250</td>\n",
       "      <td>0.28390</td>\n",
       "      <td>0.24140</td>\n",
       "      <td>0.10520</td>\n",
       "      <td>...</td>\n",
       "      <td>14.910</td>\n",
       "      <td>26.50</td>\n",
       "      <td>98.87</td>\n",
       "      <td>567.7</td>\n",
       "      <td>0.20980</td>\n",
       "      <td>0.86630</td>\n",
       "      <td>0.6869</td>\n",
       "      <td>0.2575</td>\n",
       "      <td>0.6638</td>\n",
       "      <td>0.17300</td>\n",
       "    </tr>\n",
       "    <tr>\n",
       "      <th>4</th>\n",
       "      <td>84358402</td>\n",
       "      <td>M</td>\n",
       "      <td>20.29</td>\n",
       "      <td>14.34</td>\n",
       "      <td>135.10</td>\n",
       "      <td>1297.0</td>\n",
       "      <td>0.10030</td>\n",
       "      <td>0.13280</td>\n",
       "      <td>0.19800</td>\n",
       "      <td>0.10430</td>\n",
       "      <td>...</td>\n",
       "      <td>22.540</td>\n",
       "      <td>16.67</td>\n",
       "      <td>152.20</td>\n",
       "      <td>1575.0</td>\n",
       "      <td>0.13740</td>\n",
       "      <td>0.20500</td>\n",
       "      <td>0.4000</td>\n",
       "      <td>0.1625</td>\n",
       "      <td>0.2364</td>\n",
       "      <td>0.07678</td>\n",
       "    </tr>\n",
       "    <tr>\n",
       "      <th>...</th>\n",
       "      <td>...</td>\n",
       "      <td>...</td>\n",
       "      <td>...</td>\n",
       "      <td>...</td>\n",
       "      <td>...</td>\n",
       "      <td>...</td>\n",
       "      <td>...</td>\n",
       "      <td>...</td>\n",
       "      <td>...</td>\n",
       "      <td>...</td>\n",
       "      <td>...</td>\n",
       "      <td>...</td>\n",
       "      <td>...</td>\n",
       "      <td>...</td>\n",
       "      <td>...</td>\n",
       "      <td>...</td>\n",
       "      <td>...</td>\n",
       "      <td>...</td>\n",
       "      <td>...</td>\n",
       "      <td>...</td>\n",
       "      <td>...</td>\n",
       "    </tr>\n",
       "    <tr>\n",
       "      <th>564</th>\n",
       "      <td>926424</td>\n",
       "      <td>M</td>\n",
       "      <td>21.56</td>\n",
       "      <td>22.39</td>\n",
       "      <td>142.00</td>\n",
       "      <td>1479.0</td>\n",
       "      <td>0.11100</td>\n",
       "      <td>0.11590</td>\n",
       "      <td>0.24390</td>\n",
       "      <td>0.13890</td>\n",
       "      <td>...</td>\n",
       "      <td>25.450</td>\n",
       "      <td>26.40</td>\n",
       "      <td>166.10</td>\n",
       "      <td>2027.0</td>\n",
       "      <td>0.14100</td>\n",
       "      <td>0.21130</td>\n",
       "      <td>0.4107</td>\n",
       "      <td>0.2216</td>\n",
       "      <td>0.2060</td>\n",
       "      <td>0.07115</td>\n",
       "    </tr>\n",
       "    <tr>\n",
       "      <th>565</th>\n",
       "      <td>926682</td>\n",
       "      <td>M</td>\n",
       "      <td>20.13</td>\n",
       "      <td>28.25</td>\n",
       "      <td>131.20</td>\n",
       "      <td>1261.0</td>\n",
       "      <td>0.09780</td>\n",
       "      <td>0.10340</td>\n",
       "      <td>0.14400</td>\n",
       "      <td>0.09791</td>\n",
       "      <td>...</td>\n",
       "      <td>23.690</td>\n",
       "      <td>38.25</td>\n",
       "      <td>155.00</td>\n",
       "      <td>1731.0</td>\n",
       "      <td>0.11660</td>\n",
       "      <td>0.19220</td>\n",
       "      <td>0.3215</td>\n",
       "      <td>0.1628</td>\n",
       "      <td>0.2572</td>\n",
       "      <td>0.06637</td>\n",
       "    </tr>\n",
       "    <tr>\n",
       "      <th>566</th>\n",
       "      <td>926954</td>\n",
       "      <td>M</td>\n",
       "      <td>16.60</td>\n",
       "      <td>28.08</td>\n",
       "      <td>108.30</td>\n",
       "      <td>858.1</td>\n",
       "      <td>0.08455</td>\n",
       "      <td>0.10230</td>\n",
       "      <td>0.09251</td>\n",
       "      <td>0.05302</td>\n",
       "      <td>...</td>\n",
       "      <td>18.980</td>\n",
       "      <td>34.12</td>\n",
       "      <td>126.70</td>\n",
       "      <td>1124.0</td>\n",
       "      <td>0.11390</td>\n",
       "      <td>0.30940</td>\n",
       "      <td>0.3403</td>\n",
       "      <td>0.1418</td>\n",
       "      <td>0.2218</td>\n",
       "      <td>0.07820</td>\n",
       "    </tr>\n",
       "    <tr>\n",
       "      <th>567</th>\n",
       "      <td>927241</td>\n",
       "      <td>M</td>\n",
       "      <td>20.60</td>\n",
       "      <td>29.33</td>\n",
       "      <td>140.10</td>\n",
       "      <td>1265.0</td>\n",
       "      <td>0.11780</td>\n",
       "      <td>0.27700</td>\n",
       "      <td>0.35140</td>\n",
       "      <td>0.15200</td>\n",
       "      <td>...</td>\n",
       "      <td>25.740</td>\n",
       "      <td>39.42</td>\n",
       "      <td>184.60</td>\n",
       "      <td>1821.0</td>\n",
       "      <td>0.16500</td>\n",
       "      <td>0.86810</td>\n",
       "      <td>0.9387</td>\n",
       "      <td>0.2650</td>\n",
       "      <td>0.4087</td>\n",
       "      <td>0.12400</td>\n",
       "    </tr>\n",
       "    <tr>\n",
       "      <th>568</th>\n",
       "      <td>92751</td>\n",
       "      <td>B</td>\n",
       "      <td>7.76</td>\n",
       "      <td>24.54</td>\n",
       "      <td>47.92</td>\n",
       "      <td>181.0</td>\n",
       "      <td>0.05263</td>\n",
       "      <td>0.04362</td>\n",
       "      <td>0.00000</td>\n",
       "      <td>0.00000</td>\n",
       "      <td>...</td>\n",
       "      <td>9.456</td>\n",
       "      <td>30.37</td>\n",
       "      <td>59.16</td>\n",
       "      <td>268.6</td>\n",
       "      <td>0.08996</td>\n",
       "      <td>0.06444</td>\n",
       "      <td>0.0000</td>\n",
       "      <td>0.0000</td>\n",
       "      <td>0.2871</td>\n",
       "      <td>0.07039</td>\n",
       "    </tr>\n",
       "  </tbody>\n",
       "</table>\n",
       "<p>569 rows × 32 columns</p>\n",
       "</div>"
      ],
      "text/plain": [
       "           id diagnosis  radius_mean  texture_mean  perimeter_mean  area_mean  \\\n",
       "0      842302         M        17.99         10.38          122.80     1001.0   \n",
       "1      842517         M        20.57         17.77          132.90     1326.0   \n",
       "2    84300903         M        19.69         21.25          130.00     1203.0   \n",
       "3    84348301         M        11.42         20.38           77.58      386.1   \n",
       "4    84358402         M        20.29         14.34          135.10     1297.0   \n",
       "..        ...       ...          ...           ...             ...        ...   \n",
       "564    926424         M        21.56         22.39          142.00     1479.0   \n",
       "565    926682         M        20.13         28.25          131.20     1261.0   \n",
       "566    926954         M        16.60         28.08          108.30      858.1   \n",
       "567    927241         M        20.60         29.33          140.10     1265.0   \n",
       "568     92751         B         7.76         24.54           47.92      181.0   \n",
       "\n",
       "     smoothness_mean  compactness_mean  concavity_mean  concave points_mean  \\\n",
       "0            0.11840           0.27760         0.30010              0.14710   \n",
       "1            0.08474           0.07864         0.08690              0.07017   \n",
       "2            0.10960           0.15990         0.19740              0.12790   \n",
       "3            0.14250           0.28390         0.24140              0.10520   \n",
       "4            0.10030           0.13280         0.19800              0.10430   \n",
       "..               ...               ...             ...                  ...   \n",
       "564          0.11100           0.11590         0.24390              0.13890   \n",
       "565          0.09780           0.10340         0.14400              0.09791   \n",
       "566          0.08455           0.10230         0.09251              0.05302   \n",
       "567          0.11780           0.27700         0.35140              0.15200   \n",
       "568          0.05263           0.04362         0.00000              0.00000   \n",
       "\n",
       "     ...  radius_worst  texture_worst  perimeter_worst  area_worst  \\\n",
       "0    ...        25.380          17.33           184.60      2019.0   \n",
       "1    ...        24.990          23.41           158.80      1956.0   \n",
       "2    ...        23.570          25.53           152.50      1709.0   \n",
       "3    ...        14.910          26.50            98.87       567.7   \n",
       "4    ...        22.540          16.67           152.20      1575.0   \n",
       "..   ...           ...            ...              ...         ...   \n",
       "564  ...        25.450          26.40           166.10      2027.0   \n",
       "565  ...        23.690          38.25           155.00      1731.0   \n",
       "566  ...        18.980          34.12           126.70      1124.0   \n",
       "567  ...        25.740          39.42           184.60      1821.0   \n",
       "568  ...         9.456          30.37            59.16       268.6   \n",
       "\n",
       "     smoothness_worst  compactness_worst  concavity_worst  \\\n",
       "0             0.16220            0.66560           0.7119   \n",
       "1             0.12380            0.18660           0.2416   \n",
       "2             0.14440            0.42450           0.4504   \n",
       "3             0.20980            0.86630           0.6869   \n",
       "4             0.13740            0.20500           0.4000   \n",
       "..                ...                ...              ...   \n",
       "564           0.14100            0.21130           0.4107   \n",
       "565           0.11660            0.19220           0.3215   \n",
       "566           0.11390            0.30940           0.3403   \n",
       "567           0.16500            0.86810           0.9387   \n",
       "568           0.08996            0.06444           0.0000   \n",
       "\n",
       "     concave points_worst  symmetry_worst  fractal_dimension_worst  \n",
       "0                  0.2654          0.4601                  0.11890  \n",
       "1                  0.1860          0.2750                  0.08902  \n",
       "2                  0.2430          0.3613                  0.08758  \n",
       "3                  0.2575          0.6638                  0.17300  \n",
       "4                  0.1625          0.2364                  0.07678  \n",
       "..                    ...             ...                      ...  \n",
       "564                0.2216          0.2060                  0.07115  \n",
       "565                0.1628          0.2572                  0.06637  \n",
       "566                0.1418          0.2218                  0.07820  \n",
       "567                0.2650          0.4087                  0.12400  \n",
       "568                0.0000          0.2871                  0.07039  \n",
       "\n",
       "[569 rows x 32 columns]"
      ]
     },
     "execution_count": 3,
     "metadata": {},
     "output_type": "execute_result"
    }
   ],
   "source": [
    "data"
   ]
  },
  {
   "cell_type": "code",
   "execution_count": 4,
   "id": "41b291bd",
   "metadata": {},
   "outputs": [
    {
     "data": {
      "text/plain": [
       "id                         0\n",
       "diagnosis                  0\n",
       "radius_mean                0\n",
       "texture_mean               0\n",
       "perimeter_mean             0\n",
       "area_mean                  0\n",
       "smoothness_mean            0\n",
       "compactness_mean           0\n",
       "concavity_mean             0\n",
       "concave points_mean        0\n",
       "symmetry_mean              0\n",
       "fractal_dimension_mean     0\n",
       "radius_se                  0\n",
       "texture_se                 0\n",
       "perimeter_se               0\n",
       "area_se                    0\n",
       "smoothness_se              0\n",
       "compactness_se             0\n",
       "concavity_se               0\n",
       "concave points_se          0\n",
       "symmetry_se                0\n",
       "fractal_dimension_se       0\n",
       "radius_worst               0\n",
       "texture_worst              0\n",
       "perimeter_worst            0\n",
       "area_worst                 0\n",
       "smoothness_worst           0\n",
       "compactness_worst          0\n",
       "concavity_worst            0\n",
       "concave points_worst       0\n",
       "symmetry_worst             0\n",
       "fractal_dimension_worst    0\n",
       "dtype: int64"
      ]
     },
     "execution_count": 4,
     "metadata": {},
     "output_type": "execute_result"
    }
   ],
   "source": [
    "data.isnull().sum()"
   ]
  },
  {
   "cell_type": "code",
   "execution_count": 5,
   "id": "7fd58d2f",
   "metadata": {},
   "outputs": [
    {
     "data": {
      "text/plain": [
       "0"
      ]
     },
     "execution_count": 5,
     "metadata": {},
     "output_type": "execute_result"
    }
   ],
   "source": [
    "data.duplicated().sum()"
   ]
  },
  {
   "cell_type": "code",
   "execution_count": 6,
   "id": "d7f3a413",
   "metadata": {},
   "outputs": [
    {
     "data": {
      "text/plain": [
       "B    357\n",
       "M    212\n",
       "Name: diagnosis, dtype: int64"
      ]
     },
     "execution_count": 6,
     "metadata": {},
     "output_type": "execute_result"
    }
   ],
   "source": [
    "data[\"diagnosis\"].value_counts()"
   ]
  },
  {
   "cell_type": "code",
   "execution_count": 7,
   "id": "561fd524",
   "metadata": {},
   "outputs": [
    {
     "name": "stdout",
     "output_type": "stream",
     "text": [
      "<class 'pandas.core.frame.DataFrame'>\n",
      "RangeIndex: 569 entries, 0 to 568\n",
      "Data columns (total 32 columns):\n",
      " #   Column                   Non-Null Count  Dtype  \n",
      "---  ------                   --------------  -----  \n",
      " 0   id                       569 non-null    int64  \n",
      " 1   diagnosis                569 non-null    object \n",
      " 2   radius_mean              569 non-null    float64\n",
      " 3   texture_mean             569 non-null    float64\n",
      " 4   perimeter_mean           569 non-null    float64\n",
      " 5   area_mean                569 non-null    float64\n",
      " 6   smoothness_mean          569 non-null    float64\n",
      " 7   compactness_mean         569 non-null    float64\n",
      " 8   concavity_mean           569 non-null    float64\n",
      " 9   concave points_mean      569 non-null    float64\n",
      " 10  symmetry_mean            569 non-null    float64\n",
      " 11  fractal_dimension_mean   569 non-null    float64\n",
      " 12  radius_se                569 non-null    float64\n",
      " 13  texture_se               569 non-null    float64\n",
      " 14  perimeter_se             569 non-null    float64\n",
      " 15  area_se                  569 non-null    float64\n",
      " 16  smoothness_se            569 non-null    float64\n",
      " 17  compactness_se           569 non-null    float64\n",
      " 18  concavity_se             569 non-null    float64\n",
      " 19  concave points_se        569 non-null    float64\n",
      " 20  symmetry_se              569 non-null    float64\n",
      " 21  fractal_dimension_se     569 non-null    float64\n",
      " 22  radius_worst             569 non-null    float64\n",
      " 23  texture_worst            569 non-null    float64\n",
      " 24  perimeter_worst          569 non-null    float64\n",
      " 25  area_worst               569 non-null    float64\n",
      " 26  smoothness_worst         569 non-null    float64\n",
      " 27  compactness_worst        569 non-null    float64\n",
      " 28  concavity_worst          569 non-null    float64\n",
      " 29  concave points_worst     569 non-null    float64\n",
      " 30  symmetry_worst           569 non-null    float64\n",
      " 31  fractal_dimension_worst  569 non-null    float64\n",
      "dtypes: float64(30), int64(1), object(1)\n",
      "memory usage: 142.4+ KB\n"
     ]
    }
   ],
   "source": [
    "data.info()"
   ]
  },
  {
   "cell_type": "code",
   "execution_count": 8,
   "id": "284ff07d",
   "metadata": {},
   "outputs": [],
   "source": [
    "#logistic regression"
   ]
  },
  {
   "cell_type": "code",
   "execution_count": 9,
   "id": "f0da59a5",
   "metadata": {},
   "outputs": [
    {
     "data": {
      "text/plain": [
       "(     radius_mean  texture_mean  perimeter_mean  area_mean  smoothness_mean  \\\n",
       " 0          17.99         10.38          122.80     1001.0          0.11840   \n",
       " 1          20.57         17.77          132.90     1326.0          0.08474   \n",
       " 2          19.69         21.25          130.00     1203.0          0.10960   \n",
       " 3          11.42         20.38           77.58      386.1          0.14250   \n",
       " 4          20.29         14.34          135.10     1297.0          0.10030   \n",
       " ..           ...           ...             ...        ...              ...   \n",
       " 564        21.56         22.39          142.00     1479.0          0.11100   \n",
       " 565        20.13         28.25          131.20     1261.0          0.09780   \n",
       " 566        16.60         28.08          108.30      858.1          0.08455   \n",
       " 567        20.60         29.33          140.10     1265.0          0.11780   \n",
       " 568         7.76         24.54           47.92      181.0          0.05263   \n",
       " \n",
       "      compactness_mean  concavity_mean  concave points_mean  symmetry_mean  \\\n",
       " 0             0.27760         0.30010              0.14710         0.2419   \n",
       " 1             0.07864         0.08690              0.07017         0.1812   \n",
       " 2             0.15990         0.19740              0.12790         0.2069   \n",
       " 3             0.28390         0.24140              0.10520         0.2597   \n",
       " 4             0.13280         0.19800              0.10430         0.1809   \n",
       " ..                ...             ...                  ...            ...   \n",
       " 564           0.11590         0.24390              0.13890         0.1726   \n",
       " 565           0.10340         0.14400              0.09791         0.1752   \n",
       " 566           0.10230         0.09251              0.05302         0.1590   \n",
       " 567           0.27700         0.35140              0.15200         0.2397   \n",
       " 568           0.04362         0.00000              0.00000         0.1587   \n",
       " \n",
       "      fractal_dimension_mean  ...  radius_worst  texture_worst  \\\n",
       " 0                   0.07871  ...        25.380          17.33   \n",
       " 1                   0.05667  ...        24.990          23.41   \n",
       " 2                   0.05999  ...        23.570          25.53   \n",
       " 3                   0.09744  ...        14.910          26.50   \n",
       " 4                   0.05883  ...        22.540          16.67   \n",
       " ..                      ...  ...           ...            ...   \n",
       " 564                 0.05623  ...        25.450          26.40   \n",
       " 565                 0.05533  ...        23.690          38.25   \n",
       " 566                 0.05648  ...        18.980          34.12   \n",
       " 567                 0.07016  ...        25.740          39.42   \n",
       " 568                 0.05884  ...         9.456          30.37   \n",
       " \n",
       "      perimeter_worst  area_worst  smoothness_worst  compactness_worst  \\\n",
       " 0             184.60      2019.0           0.16220            0.66560   \n",
       " 1             158.80      1956.0           0.12380            0.18660   \n",
       " 2             152.50      1709.0           0.14440            0.42450   \n",
       " 3              98.87       567.7           0.20980            0.86630   \n",
       " 4             152.20      1575.0           0.13740            0.20500   \n",
       " ..               ...         ...               ...                ...   \n",
       " 564           166.10      2027.0           0.14100            0.21130   \n",
       " 565           155.00      1731.0           0.11660            0.19220   \n",
       " 566           126.70      1124.0           0.11390            0.30940   \n",
       " 567           184.60      1821.0           0.16500            0.86810   \n",
       " 568            59.16       268.6           0.08996            0.06444   \n",
       " \n",
       "      concavity_worst  concave points_worst  symmetry_worst  \\\n",
       " 0             0.7119                0.2654          0.4601   \n",
       " 1             0.2416                0.1860          0.2750   \n",
       " 2             0.4504                0.2430          0.3613   \n",
       " 3             0.6869                0.2575          0.6638   \n",
       " 4             0.4000                0.1625          0.2364   \n",
       " ..               ...                   ...             ...   \n",
       " 564           0.4107                0.2216          0.2060   \n",
       " 565           0.3215                0.1628          0.2572   \n",
       " 566           0.3403                0.1418          0.2218   \n",
       " 567           0.9387                0.2650          0.4087   \n",
       " 568           0.0000                0.0000          0.2871   \n",
       " \n",
       "      fractal_dimension_worst  \n",
       " 0                    0.11890  \n",
       " 1                    0.08902  \n",
       " 2                    0.08758  \n",
       " 3                    0.17300  \n",
       " 4                    0.07678  \n",
       " ..                       ...  \n",
       " 564                  0.07115  \n",
       " 565                  0.06637  \n",
       " 566                  0.07820  \n",
       " 567                  0.12400  \n",
       " 568                  0.07039  \n",
       " \n",
       " [569 rows x 30 columns],\n",
       "     diagnosis\n",
       " 0           M\n",
       " 1           M\n",
       " 2           M\n",
       " 3           M\n",
       " 4           M\n",
       " ..        ...\n",
       " 564         M\n",
       " 565         M\n",
       " 566         M\n",
       " 567         M\n",
       " 568         B\n",
       " \n",
       " [569 rows x 1 columns])"
      ]
     },
     "execution_count": 9,
     "metadata": {},
     "output_type": "execute_result"
    }
   ],
   "source": [
    "y = data.iloc[:, 1:2]\n",
    "x = data.iloc[:,2:]\n",
    "x,y"
   ]
  },
  {
   "cell_type": "code",
   "execution_count": 10,
   "id": "65f65ea3",
   "metadata": {},
   "outputs": [],
   "source": [
    "\n",
    "# Split the data into training and testing sets\n",
    "x_train, x_test, y_train, y_test = train_test_split(x, y, test_size= 0.2, random_state= 0)\n"
   ]
  },
  {
   "cell_type": "code",
   "execution_count": 11,
   "id": "3d8f5a4b",
   "metadata": {},
   "outputs": [],
   "source": [
    "scaler = StandardScaler()\n",
    "x_train = scaler.fit_transform(x_train)\n",
    "x_test = scaler.transform(x_test)\n"
   ]
  },
  {
   "cell_type": "code",
   "execution_count": 12,
   "id": "6f0f9692",
   "metadata": {},
   "outputs": [
    {
     "data": {
      "text/plain": [
       "array([[-1.15036482, -0.39064196, -1.12855021, ..., -0.75798367,\n",
       "        -0.01614761, -0.38503402],\n",
       "       [-0.93798972,  0.68051405, -0.94820146, ..., -0.60687023,\n",
       "         0.09669004, -0.38615797],\n",
       "       [ 0.574121  , -1.03333557,  0.51394098, ..., -0.02371948,\n",
       "        -0.20050207, -0.75144254],\n",
       "       ...,\n",
       "       [-1.32422924, -0.20048168, -1.31754581, ..., -0.97974953,\n",
       "        -0.71542314, -0.11978123],\n",
       "       [-1.24380987, -0.2245526 , -1.28007609, ..., -1.75401433,\n",
       "        -1.58157125, -1.00601779],\n",
       "       [-0.73694129,  1.14989702, -0.71226578, ..., -0.27460457,\n",
       "        -1.25895095,  0.21515662]])"
      ]
     },
     "execution_count": 12,
     "metadata": {},
     "output_type": "execute_result"
    }
   ],
   "source": [
    "x_train"
   ]
  },
  {
   "cell_type": "markdown",
   "id": "acd13dd2",
   "metadata": {},
   "source": [
    "1) logistic regression"
   ]
  },
  {
   "cell_type": "code",
   "execution_count": 13,
   "id": "b3a6db59",
   "metadata": {},
   "outputs": [
    {
     "name": "stdout",
     "output_type": "stream",
     "text": [
      "Accuracy: 0.9649122807017544\n",
      "[[65  2]\n",
      " [ 2 45]]\n",
      "              precision    recall  f1-score   support\n",
      "\n",
      "           B       0.97      0.97      0.97        67\n",
      "           M       0.96      0.96      0.96        47\n",
      "\n",
      "    accuracy                           0.96       114\n",
      "   macro avg       0.96      0.96      0.96       114\n",
      "weighted avg       0.96      0.96      0.96       114\n",
      "\n"
     ]
    }
   ],
   "source": [
    "\n",
    "# Create a logistic regression model and fit it to the training data\n",
    "lr_model = LogisticRegression()\n",
    "lr_model.fit(x_train, y_train)\n",
    "\n",
    "# Predict on the test data using the trained model\n",
    "y_pred1 = lr_model.predict(x_test)\n",
    "\n",
    "# Calculate the accuracy of the model\n",
    "accuracy = accuracy_score(y_test, y_pred1)\n",
    "print(\"Accuracy:\", accuracy)\n",
    "\n",
    "con_mat = confusion_matrix(y_test, y_pred1)\n",
    "print(con_mat)\n",
    "print(metrics.classification_report(y_test,y_pred1))\n"
   ]
  },
  {
   "cell_type": "code",
   "execution_count": 14,
   "id": "278fc2cc",
   "metadata": {},
   "outputs": [
    {
     "name": "stdout",
     "output_type": "stream",
     "text": [
      "Confusion Matrix : \n",
      " [[65  2]\n",
      " [ 2 45]]\n",
      "The train accuracy of Logistic Regression model is :  0.989010989010989\n",
      "The test accuracy of Logistic Regression model is :  0.9649122807017544\n"
     ]
    }
   ],
   "source": [
    "from sklearn import metrics\n",
    "model = LogisticRegression()\n",
    "model.fit(x_train, y_train)\n",
    "\n",
    "predicted_train1 = model.predict(x_train)\n",
    "predicted_test1 = model.predict(x_test)\n",
    "\n",
    "conf = metrics.confusion_matrix(y_test, predicted_test1)\n",
    "print (\"Confusion Matrix : \\n\", conf)\n",
    "\n",
    "print(\"The train accuracy of Logistic Regression model is : \", metrics.accuracy_score(y_train, predicted_train1))\n",
    "print(\"The test accuracy of Logistic Regression model is : \", metrics.accuracy_score(y_test, predicted_test1))"
   ]
  },
  {
   "cell_type": "code",
   "execution_count": 15,
   "id": "8adec10a",
   "metadata": {
    "scrolled": true
   },
   "outputs": [
    {
     "name": "stdout",
     "output_type": "stream",
     "text": [
      "Cross-validation scores:\n",
      "[0.93157895 0.97368421 0.93121693]\n",
      "Cross-validation scores:\n",
      "0.9454933630372228\n"
     ]
    }
   ],
   "source": [
    "\n",
    "\n",
    "skfold = StratifiedKFold(n_splits=3)\n",
    "print(\"Cross-validation scores:\\n{}\".format(cross_val_score(lr_model, x,y, cv=skfold)))\n",
    "print(\"Cross-validation scores:\\n{}\".format(np.mean(cross_val_score(lr_model, x,y, cv=skfold))))\n"
   ]
  },
  {
   "cell_type": "code",
   "execution_count": 16,
   "id": "307ef12f",
   "metadata": {},
   "outputs": [
    {
     "name": "stdout",
     "output_type": "stream",
     "text": [
      "Cross-validation scores:\n",
      "[0.9122807  0.93859649 0.97368421 0.94736842 0.95575221]\n",
      "Cross-validation scores:\n",
      "0.9455364073901567\n"
     ]
    }
   ],
   "source": [
    "kfold = KFold(n_splits=5)\n",
    "print(\"Cross-validation scores:\\n{}\".format(cross_val_score(lr_model, x,y, cv=kfold)))\n",
    "print(\"Cross-validation scores:\\n{}\".format(np.mean(cross_val_score(lr_model, x,y, cv=kfold))))\n"
   ]
  },
  {
   "cell_type": "code",
   "execution_count": 17,
   "id": "a0b19c7c",
   "metadata": {},
   "outputs": [
    {
     "name": "stdout",
     "output_type": "stream",
     "text": [
      "Best Hyperparameters:  {'C': 0.1, 'penalty': 'l2', 'solver': 'liblinear'}\n",
      "Best Accuracy Score:  0.9824175824175825\n",
      "Test Accuracy Score:  0.9649122807017544\n"
     ]
    }
   ],
   "source": [
    "\n",
    "\n",
    "# Define the logistic regression model\n",
    "logreg = LogisticRegression()\n",
    "\n",
    "# Define the parameter grid for grid search\n",
    "param_grid = {\n",
    "    'C': [0.1, 1.0, 10.0],  # Inverse of regularization strength\n",
    "    'penalty': ['l1', 'l2'],  # Regularization penalty\n",
    "    'solver': ['liblinear']  # Solver algorithm\n",
    "}\n",
    "\n",
    "# Perform grid search with cross-validation\n",
    "grid_search = GridSearchCV(logreg, param_grid, cv=5)\n",
    "grid_search.fit(x_train, y_train)\n",
    "\n",
    "# Get the best estimator (fitted model) from grid search\n",
    "best_model = grid_search.best_estimator_\n",
    "\n",
    "# Make predictions on the test set using the best model\n",
    "y_predg = best_model.predict(x_test)\n",
    "\n",
    "# Print the best hyperparameters and the corresponding accuracy score\n",
    "print(\"Best Hyperparameters: \", grid_search.best_params_)\n",
    "print(\"Best Accuracy Score: \", grid_search.best_score_)\n",
    "\n",
    "# Evaluate the model on the test set\n",
    "test_score = grid_search.score(x_test, y_test)\n",
    "print(\"Test Accuracy Score: \", test_score)\n",
    "\n",
    "\n"
   ]
  },
  {
   "cell_type": "markdown",
   "id": "9da32800",
   "metadata": {},
   "source": [
    "2)naive bayes"
   ]
  },
  {
   "cell_type": "code",
   "execution_count": 18,
   "id": "dda13f30",
   "metadata": {},
   "outputs": [
    {
     "name": "stdout",
     "output_type": "stream",
     "text": [
      "Accuracy: 0.9035087719298246\n",
      "[[61  6]\n",
      " [ 5 42]]\n",
      "              precision    recall  f1-score   support\n",
      "\n",
      "           B       0.92      0.91      0.92        67\n",
      "           M       0.88      0.89      0.88        47\n",
      "\n",
      "    accuracy                           0.90       114\n",
      "   macro avg       0.90      0.90      0.90       114\n",
      "weighted avg       0.90      0.90      0.90       114\n",
      "\n"
     ]
    }
   ],
   "source": [
    "\n",
    "# Initialize the Naive Bayes classifier\n",
    "clf = GaussianNB()\n",
    "\n",
    "# Train the classifier on the training data\n",
    "clf.fit(x_train, y_train)\n",
    "\n",
    "# Make predictions on the test data\n",
    "y_pred2 = clf.predict(x_test)\n",
    "\n",
    "# Calculate the accuracy of the classifier\n",
    "accuracy = accuracy_score(y_test, y_pred2)\n",
    "print(\"Accuracy:\", accuracy)\n",
    "\n",
    "con_mat = confusion_matrix(y_test, y_pred2)\n",
    "print(con_mat)\n",
    "print(metrics.classification_report(y_test,y_pred2))"
   ]
  },
  {
   "cell_type": "code",
   "execution_count": 19,
   "id": "419fdfa4",
   "metadata": {},
   "outputs": [
    {
     "name": "stdout",
     "output_type": "stream",
     "text": [
      "The train accuracy of Gaussian Naive Bayes model is :  0.9472527472527472\n",
      "The test accuracy of Gaussian Naive Bayes model is :  0.9035087719298246\n"
     ]
    }
   ],
   "source": [
    "Gmodel = GaussianNB()\n",
    "Gmodel.fit(x_train, y_train)\n",
    "\n",
    "predicted_train2 = Gmodel.predict(x_train)\n",
    "predicted_test2 = Gmodel.predict(x_test)\n",
    "\n",
    "print(\"The train accuracy of Gaussian Naive Bayes model is : \", metrics.accuracy_score(y_train, predicted_train2))\n",
    "print(\"The test accuracy of Gaussian Naive Bayes model is : \", metrics.accuracy_score(y_test, predicted_test2))"
   ]
  },
  {
   "cell_type": "code",
   "execution_count": 20,
   "id": "6c499d2c",
   "metadata": {},
   "outputs": [
    {
     "name": "stdout",
     "output_type": "stream",
     "text": [
      "Cross-validation scores:\n",
      "[0.91578947 0.94736842 0.94708995]\n",
      "Cross-validation scores:\n",
      "0.9367492806089297\n"
     ]
    }
   ],
   "source": [
    "\n",
    "skfold = StratifiedKFold(n_splits=3)\n",
    "print(\"Cross-validation scores:\\n{}\".format(cross_val_score(Gmodel, x,y, cv=skfold)))\n",
    "print(\"Cross-validation scores:\\n{}\".format(np.mean(cross_val_score(Gmodel, x,y, cv=skfold))))"
   ]
  },
  {
   "cell_type": "code",
   "execution_count": 21,
   "id": "dc2681b8",
   "metadata": {},
   "outputs": [
    {
     "name": "stdout",
     "output_type": "stream",
     "text": [
      "Cross-validation scores:\n",
      "[0.87719298 0.92105263 0.95614035 0.97368421 0.95575221]\n",
      "Cross-validation scores:\n",
      "0.9367644775655954\n"
     ]
    }
   ],
   "source": [
    "kfold = KFold(n_splits=5)\n",
    "print(\"Cross-validation scores:\\n{}\".format(cross_val_score(Gmodel, x,y, cv=kfold)))\n",
    "print(\"Cross-validation scores:\\n{}\".format(np.mean(cross_val_score(Gmodel, x,y, cv=kfold))))"
   ]
  },
  {
   "cell_type": "code",
   "execution_count": 22,
   "id": "bddc526f",
   "metadata": {},
   "outputs": [
    {
     "name": "stdout",
     "output_type": "stream",
     "text": [
      "Best Hyperparameters:  {'var_smoothing': 1e-09}\n",
      "Best Accuracy Score:  0.9472527472527472\n",
      "Test Accuracy Score:  0.9035087719298246\n"
     ]
    }
   ],
   "source": [
    "\n",
    "# Define the Naive Bayes model\n",
    "nb = GaussianNB()\n",
    "\n",
    "# Define the parameter grid for grid search\n",
    "param_grid = {\n",
    "    'var_smoothing': [1e-9, 1e-8, 1e-7]\n",
    "}\n",
    "\n",
    "# Perform grid search with cross-validation\n",
    "grid_search = GridSearchCV(nb, param_grid, cv=5)\n",
    "grid_search.fit(x_train, y_train)\n",
    "\n",
    "# Get the best estimator (fitted model) from grid search\n",
    "best_model = grid_search.best_estimator_\n",
    "\n",
    "# Make predictions on the test set using the best model\n",
    "y_predg = best_model.predict(x_test)\n",
    "\n",
    "# Print the best hyperparameters and the corresponding accuracy score\n",
    "print(\"Best Hyperparameters: \", grid_search.best_params_)\n",
    "print(\"Best Accuracy Score: \", grid_search.best_score_)\n",
    "\n",
    "# Evaluate the model on the test set\n",
    "test_score = grid_search.score(x_test, y_test)\n",
    "print(\"Test Accuracy Score: \", test_score)\n"
   ]
  },
  {
   "cell_type": "markdown",
   "id": "881ad48a",
   "metadata": {},
   "source": [
    "3)svm"
   ]
  },
  {
   "cell_type": "code",
   "execution_count": 23,
   "id": "57e13f22",
   "metadata": {},
   "outputs": [
    {
     "name": "stdout",
     "output_type": "stream",
     "text": [
      "Accuracy: 0.9824561403508771\n",
      "[[67  0]\n",
      " [ 2 45]]\n",
      "              precision    recall  f1-score   support\n",
      "\n",
      "           B       0.97      1.00      0.99        67\n",
      "           M       1.00      0.96      0.98        47\n",
      "\n",
      "    accuracy                           0.98       114\n",
      "   macro avg       0.99      0.98      0.98       114\n",
      "weighted avg       0.98      0.98      0.98       114\n",
      "\n"
     ]
    }
   ],
   "source": [
    "\n",
    "# Create an SVM classifier\n",
    "svm_classifier = SVC()\n",
    "\n",
    "# Train the classifier\n",
    "svm_classifier.fit(x_train, y_train)\n",
    "\n",
    "# Make predictions on the test set\n",
    "y_pred3 = svm_classifier.predict(x_test)\n",
    "\n",
    "# Calculate the accuracy of the classifier\n",
    "accuracy = accuracy_score(y_test, y_pred3)\n",
    "print(\"Accuracy:\", accuracy)\n",
    "con_mat = confusion_matrix(y_test, y_pred3)\n",
    "print(con_mat)\n",
    "print(metrics.classification_report(y_test,y_pred3))\n"
   ]
  },
  {
   "cell_type": "code",
   "execution_count": 24,
   "id": "e82a9c91",
   "metadata": {},
   "outputs": [
    {
     "name": "stdout",
     "output_type": "stream",
     "text": [
      "The train accuracy of SVM model is :  0.9846153846153847\n",
      "The test accuracy of SVM model is :  0.9824561403508771\n"
     ]
    },
    {
     "data": {
      "text/plain": [
       "array([[67,  0],\n",
       "       [ 2, 45]])"
      ]
     },
     "execution_count": 24,
     "metadata": {},
     "output_type": "execute_result"
    }
   ],
   "source": [
    "model = SVC()\n",
    "model.fit(x_train, y_train)\n",
    "  \n",
    "predicted_train3 = model.predict(x_train)\n",
    "predicted_test3 = model.predict(x_test)\n",
    "\n",
    "print(\"The train accuracy of SVM model is : \", metrics.accuracy_score(y_train, predicted_train3))\n",
    "print(\"The test accuracy of SVM model is : \", metrics.accuracy_score(y_test, predicted_test3))\n",
    "\n",
    "con_mat = confusion_matrix(y_test, predicted_test3)\n",
    "con_mat"
   ]
  },
  {
   "cell_type": "code",
   "execution_count": 25,
   "id": "208378cf",
   "metadata": {},
   "outputs": [
    {
     "name": "stdout",
     "output_type": "stream",
     "text": [
      "Cross-validation scores:\n",
      "[0.85263158 0.93157895 0.94708995]\n",
      "Cross-validation scores:\n",
      "0.9104334911352455\n"
     ]
    }
   ],
   "source": [
    "skfold = StratifiedKFold(n_splits=3)\n",
    "print(\"Cross-validation scores:\\n{}\".format(cross_val_score(svm_classifier, x,y, cv=skfold)))\n",
    "print(\"Cross-validation scores:\\n{}\".format(np.mean(cross_val_score(svm_classifier, x,y, cv=skfold))))"
   ]
  },
  {
   "cell_type": "code",
   "execution_count": 26,
   "id": "c82db853",
   "metadata": {},
   "outputs": [
    {
     "name": "stdout",
     "output_type": "stream",
     "text": [
      "Cross-validation scores:\n",
      "[0.77192982 0.90350877 0.97368421 0.93859649 0.94690265]\n",
      "Cross-validation scores:\n",
      "0.9069243906225741\n"
     ]
    }
   ],
   "source": [
    "kfold = KFold(n_splits=5)\n",
    "print(\"Cross-validation scores:\\n{}\".format(cross_val_score(svm_classifier, x,y, cv=kfold)))\n",
    "print(\"Cross-validation scores:\\n{}\".format(np.mean(cross_val_score(svm_classifier, x,y, cv=kfold))))"
   ]
  },
  {
   "cell_type": "code",
   "execution_count": 27,
   "id": "8ee03e0a",
   "metadata": {},
   "outputs": [
    {
     "name": "stdout",
     "output_type": "stream",
     "text": [
      "Size of training set: 319 size of validation set: 107 size of test set: 143\n",
      "\n",
      "Best score on validation set: 0.93\n",
      "Best parameters:  {'C': 1}\n",
      "Test set score with best parameters: 0.94\n"
     ]
    }
   ],
   "source": [
    "scaler = StandardScaler()\n",
    "x_train = scaler.fit_transform(x_train)\n",
    "x_test = scaler.transform(x_test)\n",
    "\n",
    "\n",
    "X_trainval, X_test, y_trainval, y_test = train_test_split( x,y, random_state=0)\n",
    "X_train, X_valid, y_train, y_valid = train_test_split( X_trainval, y_trainval, random_state=1) \n",
    "print(\"Size of training set: {} size of validation set: {} size of test set:\" \" {}\\n\".format(X_train.shape[0], X_valid.shape[0], X_test.shape[0])) \n",
    "best_score = 0 \n",
    "for C in [0.001, 0.01, 0.1, 1, 10, 100]: \n",
    "    svm = SVC(C=C) \n",
    "    svm.fit(X_train, y_train) \n",
    "    score = svm.score(X_valid, y_valid) \n",
    "    if score > best_score: \n",
    "        best_score = score \n",
    "        best_parameters = {'C': C}\n",
    "svm = SVC(**best_parameters) \n",
    "svm.fit(X_trainval, y_trainval) \n",
    "test_score = svm.score(X_test, y_test) \n",
    "print(\"Best score on validation set: {:.2f}\".format(best_score)) \n",
    "print(\"Best parameters: \", best_parameters) \n",
    "print(\"Test set score with best parameters: {:.2f}\".format(test_score))\n"
   ]
  },
  {
   "cell_type": "code",
   "execution_count": 28,
   "id": "3813fd92",
   "metadata": {
    "scrolled": true
   },
   "outputs": [
    {
     "name": "stdout",
     "output_type": "stream",
     "text": [
      "Best Hyperparameters:  {'C': 0.1, 'gamma': 'scale', 'kernel': 'linear'}\n",
      "Best Accuracy Score:  0.9758241758241759\n",
      "Test Accuracy Score:  0.9736842105263158\n",
      "Classification Report:\n",
      "               precision    recall  f1-score   support\n",
      "\n",
      "           B       0.97      0.99      0.98        67\n",
      "           M       0.98      0.96      0.97        47\n",
      "\n",
      "    accuracy                           0.97       114\n",
      "   macro avg       0.97      0.97      0.97       114\n",
      "weighted avg       0.97      0.97      0.97       114\n",
      "\n"
     ]
    }
   ],
   "source": [
    "x_train, x_test, y_train, y_test = train_test_split(x, y, test_size= 0.2, random_state= 0)\n",
    "\n",
    "scaler = StandardScaler()\n",
    "x_train = scaler.fit_transform(x_train)\n",
    "x_test = scaler.transform(x_test)\n",
    "from sklearn.metrics import classification_report\n",
    "\n",
    "# Define the SVM model\n",
    "svm = SVC()\n",
    "\n",
    "# Define the parameter grid for grid search\n",
    "param_grid = {\n",
    "    'C': [0.1, 1.0, 10.0],\n",
    "    'kernel': ['linear', 'rbf'],\n",
    "    'gamma': ['scale', 'auto']\n",
    "}\n",
    "\n",
    "# Perform grid search with cross-validation\n",
    "grid_search = GridSearchCV(svm, param_grid, cv=5)\n",
    "grid_search.fit(x_train, y_train)\n",
    "\n",
    "# Get the best estimator (fitted model) from grid search\n",
    "best_model = grid_search.best_estimator_\n",
    "\n",
    "# Make predictions on the test set using the best model\n",
    "y_preds = best_model.predict(x_test)\n",
    "\n",
    "# Print the best hyperparameters and the corresponding accuracy score\n",
    "print(\"Best Hyperparameters: \", grid_search.best_params_)\n",
    "print(\"Best Accuracy Score: \", grid_search.best_score_)\n",
    "\n",
    "# Evaluate the model on the test set\n",
    "test_score = grid_search.score(x_test, y_test)\n",
    "print(\"Test Accuracy Score: \", test_score)\n",
    "\n",
    "\n",
    "classification_rep = classification_report(y_test, y_preds)\n",
    "print(\"Classification Report:\\n\", classification_rep)\n"
   ]
  },
  {
   "cell_type": "code",
   "execution_count": null,
   "id": "276d2845",
   "metadata": {},
   "outputs": [],
   "source": []
  },
  {
   "cell_type": "code",
   "execution_count": null,
   "id": "69382282",
   "metadata": {},
   "outputs": [],
   "source": []
  },
  {
   "cell_type": "markdown",
   "id": "16b6a123",
   "metadata": {},
   "source": [
    " 4)knn"
   ]
  },
  {
   "cell_type": "code",
   "execution_count": 29,
   "id": "d22f6f85",
   "metadata": {},
   "outputs": [
    {
     "name": "stdout",
     "output_type": "stream",
     "text": [
      "Accuracy: 0.956140350877193\n",
      "[[67  0]\n",
      " [ 5 42]]\n",
      "              precision    recall  f1-score   support\n",
      "\n",
      "           B       0.93      1.00      0.96        67\n",
      "           M       1.00      0.89      0.94        47\n",
      "\n",
      "    accuracy                           0.96       114\n",
      "   macro avg       0.97      0.95      0.95       114\n",
      "weighted avg       0.96      0.96      0.96       114\n",
      "\n"
     ]
    }
   ],
   "source": [
    "\n",
    "clf = KNeighborsClassifier(n_neighbors=5)\n",
    "\n",
    "# Train the classifier on the training data\n",
    "clf.fit(x_train, y_train)\n",
    "\n",
    "# Make predictions on the test data\n",
    "y_pred4 = clf.predict(x_test)\n",
    "\n",
    "# Calculate the accuracy of the classifier\n",
    "accuracy = accuracy_score(y_test, y_pred4)\n",
    "print(\"Accuracy:\", accuracy)\n",
    "con_mat = confusion_matrix(y_test, y_pred4)\n",
    "print(con_mat)\n",
    "print(metrics.classification_report(y_test,y_pred4))"
   ]
  },
  {
   "cell_type": "code",
   "execution_count": 30,
   "id": "0a6b98a2",
   "metadata": {},
   "outputs": [
    {
     "name": "stdout",
     "output_type": "stream",
     "text": [
      "Cross-validation scores:\n",
      "[0.9        0.94736842 0.92063492]\n",
      "mean Cross-validation scores:\n",
      "0.9226677805625174\n"
     ]
    },
    {
     "data": {
      "text/plain": [
       "array([[67,  0],\n",
       "       [ 5, 42]])"
      ]
     },
     "execution_count": 30,
     "metadata": {},
     "output_type": "execute_result"
    }
   ],
   "source": [
    "\n",
    "\n",
    "skfold = StratifiedKFold(n_splits=3)\n",
    "\n",
    "print(\"Cross-validation scores:\\n{}\".format(cross_val_score(clf,x,y, cv=skfold)))\n",
    "print(\"mean Cross-validation scores:\\n{}\".format(np.mean(cross_val_score(clf,x,y, cv=skfold))))\n",
    "con_mat = confusion_matrix(y_test, y_pred4)\n",
    "con_mat\n"
   ]
  },
  {
   "cell_type": "code",
   "execution_count": 31,
   "id": "398c12ef",
   "metadata": {},
   "outputs": [
    {
     "name": "stdout",
     "output_type": "stream",
     "text": [
      "Cross-validation scores:\n",
      "[0.85964912 0.92105263 0.96491228 0.94736842 0.9380531 ]\n",
      "mean Cross-validation scores:\n",
      "0.9262071106970966\n"
     ]
    },
    {
     "data": {
      "text/plain": [
       "array([[67,  0],\n",
       "       [ 5, 42]])"
      ]
     },
     "execution_count": 31,
     "metadata": {},
     "output_type": "execute_result"
    }
   ],
   "source": [
    "\n",
    "kfold = KFold(n_splits=5)\n",
    "print(\"Cross-validation scores:\\n{}\".format(cross_val_score(clf,x,y, cv=kfold)))\n",
    "print(\"mean Cross-validation scores:\\n{}\".format(np.mean(cross_val_score(clf,x,y, cv=kfold))))\n",
    "con_mat = confusion_matrix(y_test, y_pred4)\n",
    "con_mat"
   ]
  },
  {
   "cell_type": "code",
   "execution_count": 32,
   "id": "80f09fa8",
   "metadata": {},
   "outputs": [
    {
     "name": "stdout",
     "output_type": "stream",
     "text": [
      "[[65  2]\n",
      " [ 4 43]]\n",
      "The train accuracy of KNN model is :  100.0\n",
      "The test accuracy of KNN model is :  94.73684210526315\n"
     ]
    }
   ],
   "source": [
    "Kmodel = KNeighborsClassifier(n_neighbors = 1)  \n",
    "Kmodel.fit(x_train, y_train)\n",
    "\n",
    "predicted_train4 = Kmodel.predict(x_train)\n",
    "predicted_test4 = Kmodel.predict(x_test)\n",
    "\n",
    "print(metrics.confusion_matrix(y_test, predicted_test4))\n",
    "print(\"The train accuracy of KNN model is : \", metrics.accuracy_score(y_train, predicted_train4)*100)\n",
    "print(\"The test accuracy of KNN model is : \", metrics.accuracy_score(y_test, predicted_test4)*100)"
   ]
  },
  {
   "cell_type": "code",
   "execution_count": 33,
   "id": "068ecc34",
   "metadata": {},
   "outputs": [
    {
     "name": "stdout",
     "output_type": "stream",
     "text": [
      "Best Hyperparameters:  {'n_neighbors': 11, 'p': 1, 'weights': 'uniform'}\n",
      "Best Accuracy Score:  0.9692307692307693\n",
      "Test Accuracy Score:  0.9473684210526315\n"
     ]
    }
   ],
   "source": [
    "from sklearn.neighbors import KNeighborsClassifier\n",
    "from sklearn.model_selection import GridSearchCV\n",
    "\n",
    "# Define the KNN model\n",
    "knn = KNeighborsClassifier()\n",
    "\n",
    "# Define the parameter grid for grid search\n",
    "param_grid = {\n",
    "    'n_neighbors': range(1,20),\n",
    "    'weights': ['uniform', 'distance'],\n",
    "    'p': [1, 2]\n",
    "}\n",
    "\n",
    "# Perform grid search with cross-validation\n",
    "grid_search = GridSearchCV(knn, param_grid, cv=5)\n",
    "grid_search.fit(x_train, y_train)\n",
    "\n",
    "# Get the best estimator (fitted model) from grid search\n",
    "best_model = grid_search.best_estimator_\n",
    "\n",
    "# Make predictions on the test set using the best model\n",
    "y_predk = best_model.predict(x_test)\n",
    "\n",
    "# Print the best hyperparameters and the corresponding accuracy score\n",
    "print(\"Best Hyperparameters: \", grid_search.best_params_)\n",
    "print(\"Best Accuracy Score: \", grid_search.best_score_)\n",
    "\n",
    "# Evaluate the model on the test set\n",
    "test_score = grid_search.score(x_test, y_test)\n",
    "print(\"Test Accuracy Score: \", test_score)\n"
   ]
  },
  {
   "cell_type": "code",
   "execution_count": 34,
   "id": "15e66307",
   "metadata": {},
   "outputs": [
    {
     "name": "stdout",
     "output_type": "stream",
     "text": [
      "[[66  1]\n",
      " [ 4 43]]\n",
      "The train accuracy of KNN model is :  0.9758241758241758\n",
      "The test accuracy of KNN model is :  0.956140350877193\n"
     ]
    }
   ],
   "source": [
    "kmodel = KNeighborsClassifier(n_neighbors = 11)  \n",
    "kmodel.fit(x_train, y_train)\n",
    "\n",
    "predicted_traink = kmodel.predict(x_train)\n",
    "predicted_testk = kmodel.predict(x_test)\n",
    "\n",
    "print(metrics.confusion_matrix(y_test, predicted_testk))\n",
    "print(\"The train accuracy of KNN model is : \", metrics.accuracy_score(y_train, predicted_traink))\n",
    "print(\"The test accuracy of KNN model is : \", metrics.accuracy_score(y_test, predicted_testk))"
   ]
  },
  {
   "cell_type": "markdown",
   "id": "1fc1a289",
   "metadata": {},
   "source": [
    "5)random forest"
   ]
  },
  {
   "cell_type": "code",
   "execution_count": 35,
   "id": "7f249869",
   "metadata": {},
   "outputs": [
    {
     "name": "stdout",
     "output_type": "stream",
     "text": [
      "Accuracy: 0.9736842105263158\n"
     ]
    },
    {
     "data": {
      "text/plain": [
       "array([[65,  2],\n",
       "       [ 1, 46]])"
      ]
     },
     "execution_count": 35,
     "metadata": {},
     "output_type": "execute_result"
    }
   ],
   "source": [
    "\n",
    "# Initialize the Random Forest classifier\n",
    "Random = RandomForestClassifier(n_estimators=100, random_state=42)\n",
    "\n",
    "# Train the classifier on the training data\n",
    "Random.fit(x_train, y_train)\n",
    "\n",
    "# Make predictions on the test data\n",
    "y_pred5 = Random.predict(x_test)\n",
    "\n",
    "# Calculate the accuracy of the classifier\n",
    "accuracy = accuracy_score(y_test, y_pred5)\n",
    "print(\"Accuracy:\", accuracy)\n",
    "\n",
    "con_mat = confusion_matrix(y_test, y_pred5)\n",
    "con_mat\n"
   ]
  },
  {
   "cell_type": "code",
   "execution_count": 36,
   "id": "3434f780",
   "metadata": {},
   "outputs": [
    {
     "name": "stdout",
     "output_type": "stream",
     "text": [
      "Cross-validation scores:\n",
      "[0.94210526 0.96842105 0.96296296]\n",
      "Cross-validation scores:\n",
      "0.9578297595841455\n"
     ]
    }
   ],
   "source": [
    "skfold = StratifiedKFold(n_splits=3)\n",
    "print(\"Cross-validation scores:\\n{}\".format(cross_val_score(Random, x,y, cv=skfold)))\n",
    "print(\"Cross-validation scores:\\n{}\".format(np.mean(cross_val_score(Random, x,y, cv=skfold))))"
   ]
  },
  {
   "cell_type": "code",
   "execution_count": 37,
   "id": "86d58c63",
   "metadata": {},
   "outputs": [
    {
     "name": "stdout",
     "output_type": "stream",
     "text": [
      "Cross-validation scores:\n",
      "[0.9122807  0.96491228 0.98245614 0.95614035 0.98230088]\n",
      "Cross-validation scores:\n",
      "0.9596180717279925\n"
     ]
    }
   ],
   "source": [
    "kfold = KFold(n_splits=5)\n",
    "print(\"Cross-validation scores:\\n{}\".format(cross_val_score(Random, x,y, cv=kfold)))\n",
    "print(\"Cross-validation scores:\\n{}\".format(np.mean(cross_val_score(Random, x,y, cv=kfold))))"
   ]
  },
  {
   "cell_type": "code",
   "execution_count": 38,
   "id": "5c4abcc4",
   "metadata": {},
   "outputs": [
    {
     "name": "stdout",
     "output_type": "stream",
     "text": [
      "[[64  3]\n",
      " [ 3 44]]\n",
      "The train accuracy of KNN model is :  100.0 %\n",
      "The test accuracy of KNN model is :  94.73684210526315 %\n"
     ]
    }
   ],
   "source": [
    "rmodel=RandomForestClassifier(random_state = 1) \n",
    "rmodel.fit(x_train, y_train)\n",
    "\n",
    "predicted_trainr = rmodel.predict(x_train)\n",
    "predicted_testr = rmodel.predict(x_test)\n",
    "\n",
    "print(metrics.confusion_matrix(y_test, predicted_testr))\n",
    "print(\"The train accuracy of KNN model is : \", metrics.accuracy_score(y_train, predicted_trainr)*100, \"%\")\n",
    "print(\"The test accuracy of KNN model is : \", metrics.accuracy_score(y_test, predicted_testr)*100, \"%\")"
   ]
  },
  {
   "cell_type": "code",
   "execution_count": 39,
   "id": "909e238c",
   "metadata": {},
   "outputs": [],
   "source": [
    "predicted = rmodel.predict(x_test)"
   ]
  },
  {
   "cell_type": "code",
   "execution_count": 40,
   "id": "c2adf555",
   "metadata": {},
   "outputs": [
    {
     "data": {
      "text/plain": [
       "array(['M', 'B', 'B', 'B', 'B', 'B', 'B', 'B', 'B', 'B', 'M', 'B', 'B',\n",
       "       'M', 'M', 'M', 'B', 'M', 'M', 'M', 'M', 'M', 'B', 'B', 'M', 'B',\n",
       "       'B', 'M', 'B', 'M', 'B', 'M', 'B', 'M', 'B', 'M', 'B', 'M', 'B',\n",
       "       'M', 'B', 'B', 'M', 'B', 'B', 'M', 'B', 'B', 'B', 'M', 'M', 'M',\n",
       "       'M', 'B', 'B', 'B', 'B', 'B', 'B', 'M', 'M', 'M', 'B', 'B', 'M',\n",
       "       'B', 'M', 'M', 'M', 'B', 'B', 'M', 'B', 'B', 'M', 'B', 'B', 'B',\n",
       "       'B', 'B', 'M', 'M', 'M', 'B', 'M', 'B', 'B', 'B', 'M', 'M', 'B',\n",
       "       'M', 'B', 'M', 'B', 'B', 'M', 'B', 'B', 'B', 'B', 'B', 'B', 'B',\n",
       "       'M', 'B', 'M', 'B', 'B', 'M', 'B', 'M', 'M', 'B'], dtype=object)"
      ]
     },
     "execution_count": 40,
     "metadata": {},
     "output_type": "execute_result"
    }
   ],
   "source": [
    "predicted"
   ]
  },
  {
   "cell_type": "code",
   "execution_count": 41,
   "id": "309e83dc",
   "metadata": {},
   "outputs": [
    {
     "name": "stdout",
     "output_type": "stream",
     "text": [
      "              precision    recall  f1-score   support\n",
      "\n",
      "           B       0.96      0.96      0.96        67\n",
      "           M       0.94      0.94      0.94        47\n",
      "\n",
      "    accuracy                           0.95       114\n",
      "   macro avg       0.95      0.95      0.95       114\n",
      "weighted avg       0.95      0.95      0.95       114\n",
      "\n"
     ]
    }
   ],
   "source": [
    "print(metrics.classification_report(y_test,predicted))"
   ]
  },
  {
   "cell_type": "code",
   "execution_count": 42,
   "id": "8674d239",
   "metadata": {},
   "outputs": [
    {
     "name": "stdout",
     "output_type": "stream",
     "text": [
      "Best Hyperparameters:  {'max_depth': 6, 'max_features': 4, 'min_samples_leaf': 2, 'min_samples_split': 10, 'n_estimators': 100}\n",
      "Best Accuracy Score:  0.9582417582417582\n",
      "Test Accuracy Score:  0.956140350877193\n"
     ]
    }
   ],
   "source": [
    "\n",
    "# Define the Random Forest model\n",
    "rf = RandomForestClassifier()\n",
    "\n",
    "# Define the parameter grid for grid search\n",
    "param_grid = {\n",
    "    'n_estimators': [60,70,80,100, ],\n",
    "    'max_depth': [None, 5, 10],\n",
    "    'max_depth': [5,6,7],\n",
    "    'max_features': [4,5,6],\n",
    "    'min_samples_leaf': [2, 4,10,15],\n",
    "    'min_samples_split': [10,50,60,70],  \n",
    "}\n",
    "\n",
    "# Perform grid search with cross-validation\n",
    "grid_search = GridSearchCV(rf, param_grid, cv=5)\n",
    "grid_search.fit(x_train, y_train)\n",
    "\n",
    "\n",
    "\n",
    "# Get the best estimator (fitted model) from grid search\n",
    "best_model = grid_search.best_estimator_\n",
    "\n",
    "# Make predictions on the test set using the best model\n",
    "y_pred = best_model.predict(x_test)\n",
    "\n",
    "# Print the best hyperparameters and the corresponding accuracy score\n",
    "print(\"Best Hyperparameters: \", grid_search.best_params_)\n",
    "print(\"Best Accuracy Score: \", grid_search.best_score_)\n",
    "\n",
    "# Evaluate the model on the test set\n",
    "test_score = grid_search.score(x_test, y_test)\n",
    "print(\"Test Accuracy Score: \", test_score)\n"
   ]
  },
  {
   "cell_type": "code",
   "execution_count": 43,
   "id": "b7881950",
   "metadata": {},
   "outputs": [
    {
     "name": "stdout",
     "output_type": "stream",
     "text": [
      "{'max_depth': 6, 'max_features': 4, 'min_samples_leaf': 2, 'min_samples_split': 10, 'n_estimators': 100}\n",
      "RandomForestClassifier(max_depth=6, max_features=4, min_samples_leaf=2,\n",
      "                       min_samples_split=10)\n"
     ]
    }
   ],
   "source": [
    "print(grid_search.best_params_) #best parameters of logit for tuning\n",
    "\n",
    "best_grid = grid_search.best_estimator_ #acquiring the best estimator for logit\n",
    "print(best_grid)"
   ]
  },
  {
   "cell_type": "code",
   "execution_count": 44,
   "id": "ebfc0469",
   "metadata": {},
   "outputs": [
    {
     "name": "stdout",
     "output_type": "stream",
     "text": [
      "Accuracy score for train data 0.9846153846153847\n",
      "Accuracy score for test data 0.956140350877193\n"
     ]
    }
   ],
   "source": [
    "grid_rfcl_train_acc = best_grid.score(x_train,y_train) \n",
    "print('Accuracy score for train data',grid_rfcl_train_acc)\n",
    "\n",
    "grid_rfcl_test_acc = best_grid.score(x_test,y_test)\n",
    "print('Accuracy score for test data',grid_rfcl_test_acc)"
   ]
  },
  {
   "cell_type": "code",
   "execution_count": 45,
   "id": "a728109e",
   "metadata": {},
   "outputs": [],
   "source": [
    "grid_rfcl_pred = best_grid.predict(x_train) #prediction of the training set\n",
    "grid_rfcl_pred1 = best_grid.predict(x_test) #prediction of the test set\n",
    "\n",
    "grid_rfcl_prob = best_grid.predict_proba(x_train) #probability prediction of the training set\n",
    "grid_rfcl_prob1 = best_grid.predict_proba(x_test) #probability prediction of the test set"
   ]
  },
  {
   "cell_type": "code",
   "execution_count": 46,
   "id": "3f30fc9d",
   "metadata": {},
   "outputs": [
    {
     "data": {
      "image/png": "[encoded data removed]",
      "text/plain": [
       "<Figure size 720x216 with 2 Axes>"
      ]
     },
     "metadata": {
      "needs_background": "light"
     },
     "output_type": "display_data"
    }
   ],
   "source": [
    "plt.figure(figsize=(10,3))\n",
    "\n",
    "plt.subplot(1,2,1)\n",
    "sns.heatmap(metrics.confusion_matrix(y_train,grid_rfcl_pred),annot=True,fmt='d',cbar=False)\n",
    "plt.title('Confusion Matrix for RF (Train)')\n",
    "plt.xlabel('Predicted Label')\n",
    "plt.ylabel('Actual Label')\n",
    "\n",
    "plt.subplot(1,2,2)\n",
    "sns.heatmap(metrics.confusion_matrix(y_test,grid_rfcl_pred1),annot=True,fmt='d',cbar=False)\n",
    "plt.title('Confusion Matrix for RF (Test)')\n",
    "plt.xlabel('Predicted Label')\n",
    "plt.ylabel('Actual Label')\n",
    "plt.show()"
   ]
  },
  {
   "cell_type": "code",
   "execution_count": 47,
   "id": "d81034af",
   "metadata": {},
   "outputs": [
    {
     "name": "stdout",
     "output_type": "stream",
     "text": [
      "Classification Report for the training set\n",
      "\n",
      "               precision    recall  f1-score   support\n",
      "\n",
      "           B       0.98      0.99      0.99       290\n",
      "           M       0.99      0.97      0.98       165\n",
      "\n",
      "    accuracy                           0.98       455\n",
      "   macro avg       0.99      0.98      0.98       455\n",
      "weighted avg       0.98      0.98      0.98       455\n",
      " \n",
      "\n",
      "Classification Report \n",
      "\n",
      "               precision    recall  f1-score   support\n",
      "\n",
      "           B       0.97      0.96      0.96        67\n",
      "           M       0.94      0.96      0.95        47\n",
      "\n",
      "    accuracy                           0.96       114\n",
      "   macro avg       0.95      0.96      0.95       114\n",
      "weighted avg       0.96      0.96      0.96       114\n",
      "\n"
     ]
    }
   ],
   "source": [
    "print('Classification Report for the training set\\n\\n',metrics.classification_report(y_train, grid_rfcl_pred),'\\n')\n",
    "print('Classification Report \\n\\n',metrics.classification_report(y_test, grid_rfcl_pred1))"
   ]
  },
  {
   "cell_type": "code",
   "execution_count": null,
   "id": "b9bb1cc5",
   "metadata": {},
   "outputs": [],
   "source": []
  }
 ],
 "metadata": {
  "kernelspec": {
   "display_name": "Python 3 (ipykernel)",
   "language": "python",
   "name": "python3"
  },
  "language_info": {
   "codemirror_mode": {
    "name": "ipython",
    "version": 3
   },
   "file_extension": ".py",
   "mimetype": "text/x-python",
   "name": "python",
   "nbconvert_exporter": "python",
   "pygments_lexer": "ipython3",
   "version": "3.9.12"
  }
 },
 "nbformat": 4,
 "nbformat_minor": 5
}
